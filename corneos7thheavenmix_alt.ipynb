{
  "nbformat": 4,
  "nbformat_minor": 0,
  "metadata": {
    "colab": {
      "provenance": []
    },
    "kernelspec": {
      "name": "python3",
      "display_name": "Python 3"
    },
    "language_info": {
      "name": "python"
    },
    "accelerator": "GPU",
    "gpuClass": "standard"
  },
  "cells": [
    {
      "cell_type": "code",
      "source": [
        "!pip install --upgrade fastapi==0.90.0\n",
        "!git clone https://github.com/AUTOMATIC1111/stable-diffusion-webui\n",
        "!git clone https://github.com/yfszzx/stable-diffusion-webui-images-browser /content/stable-diffusion-webui/extensions/stable-diffusion-webui-images-browser\n",
        "%pip install -q https://github.com/nolanaatama/sd-webui/releases/download/xformers/xformers-0.0.15+e163309.d20230103-cp38-cp38-linux_x86_64.whl\n",
        "!curl -Lo corneos7thheavenmix.safetensors https://huggingface.co/nolanaatama/crns7thhvnmx/resolve/main/crns7thhvnmx.safetensors\n",
        "!curl -Lo corneos7thheavenmix.vae.pt https://huggingface.co/nolanaatama/crns7thhvnmx/resolve/main/crns7thhvnmx.vae.pt\n",
        "!curl -Lo bad-hands-5.pt https://huggingface.co/nolanaatama/etic/resolve/main/bad-hands-5.pt\n",
        "!curl -Lo bad_prompt_version2.pt https://huggingface.co/datasets/Nerfgun3/bad_prompt/resolve/main/bad_prompt_version2.pt\n",
        "!mv \"/content/corneos7thheavenmix.safetensors\" \"/content/stable-diffusion-webui/models/Stable-diffusion\"\n",
        "!mv \"/content/corneos7thheavenmix.vae.pt\" \"/content/stable-diffusion-webui/models/Stable-diffusion\"\n",
        "!mv \"/content/bad-hands-5.pt\" \"/content/stable-diffusion-webui/embeddings\"\n",
        "!mv \"/content/bad_prompt_version2.pt\" \"/content/stable-diffusion-webui/embeddings\"\n",
        "%cd /content/stable-diffusion-webui\n",
        "!git checkout 11d432d # temporary fix\n",
        "!COMMANDLINE_ARGS=\"--share --gradio-debug --medvram --disable-safe-unpickle --xformers\" REQS_FILE=\"requirements.txt\" python launch.py"
      ],
      "metadata": {
        "id": "sBbcB4vwj_jm"
      },
      "execution_count": null,
      "outputs": []
    },
    {
      "cell_type": "markdown",
      "metadata": {
        "id": "fhwIXzcgfkoR"
      },
      "source": [
        "# 📚 GitHub for more: [_@nolanaatama_](https://github.com/nolanaatama)\n",
        "# 📦 Repo: [Github](https://github.com/nolanaatama/sd-ai1px-colab)"
      ]
    }
  ]
}