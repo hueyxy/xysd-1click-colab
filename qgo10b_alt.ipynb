{
  "nbformat": 4,
  "nbformat_minor": 0,
  "metadata": {
    "colab": {
      "provenance": []
    },
    "kernelspec": {
      "name": "python3",
      "display_name": "Python 3"
    },
    "language_info": {
      "name": "python"
    },
    "accelerator": "GPU",
    "gpuClass": "standard"
  },
  "cells": [
    {
      "cell_type": "code",
      "source": [
        "!pip install --upgrade fastapi==0.90.1\n",
        "!pip install --pre triton\n",
        "!git clone https://github.com/AUTOMATIC1111/stable-diffusion-webui\n",
        "!git clone https://github.com/yfszzx/stable-diffusion-webui-images-browser /content/stable-diffusion-webui/extensions/stable-diffusion-webui-images-browser\n",
        "!git clone https://github.com/kohya-ss/sd-webui-additional-networks /content/stable-diffusion-webui/extensions/sd-webui-additional-networks\n",
        "%pip install -q https://github.com/nolanaatama/sd-webui/releases/download/xformers/xformers-0.0.15+e163309.d20230103-cp38-cp38-linux_x86_64.whl\n",
        "!curl -Lo qgo10b.safetensors https://huggingface.co/nolanaatama/qgo10b/resolve/main/qgo10b.safetensors\n",
        "!mv \"/content/qgo10b.safetensors\" \"/content/stable-diffusion-webui/models/Stable-diffusion\"\n",
        "%cd /content/stable-diffusion-webui/extensions/sd-webui-additional-networks\n",
        "!git checkout ac705ce\n",
        "import shutil\n",
        "shutil.rmtree('/content/stable-diffusion-webui/embeddings')\n",
        "%cd /content/stable-diffusion-webui\n",
        "!git checkout 4af3ca5\n",
        "!git clone https://huggingface.co/nolanaatama/embeddings\n",
        "import os\n",
        "os.remove('/content/stable-diffusion-webui/embeddings/README.md')\n",
        "os.remove('/content/stable-diffusion-webui/embeddings/.gitattributes')\n",
        "!COMMANDLINE_ARGS=\"--share --gradio-debug --medvram --disable-safe-unpickle --xformers\" REQS_FILE=\"requirements.txt\" python launch.py"
      ],
      "metadata": {
        "id": "sBbcB4vwj_jm"
      },
      "execution_count": null,
      "outputs": []
    },
    {
      "cell_type": "markdown",
      "source": [
        "## (OPTIONAL) LoRAs"
      ],
      "metadata": {
        "id": "0DwYF_aLUXKy"
      }
    },
    {
      "cell_type": "markdown",
      "source": [
        "### 1. After the gradio link show up, stop the first cell & clear the code output👆"
      ],
      "metadata": {
        "id": "JUtPlg328avv"
      }
    },
    {
      "cell_type": "markdown",
      "source": [
        "### 2. Load the LoRA & launch the web ui"
      ],
      "metadata": {
        "id": "xy_WyDzNUgd2"
      }
    },
    {
      "cell_type": "code",
      "source": [
        "# Shirtlift\n",
        "!curl -Lo shirtlift.safetensors https://huggingface.co/nolanaatama/shrtlftlora/resolve/main/shrtlftlora.safetensors\n",
        "!mv \"/content/stable-diffusion-webui/shirtlift.safetensors\" \"/content/stable-diffusion-webui/extensions/sd-webui-additional-networks/models/LoRA\"\n",
        "\n",
        "# Middle Finger\n",
        "!curl -Lo middleFingerLORA_midfingv1.safetensors https://huggingface.co/nolanaatama/mddlfngrlora/resolve/main/mddlfngrlora.safetensors\n",
        "!mv \"/content/stable-diffusion-webui/middleFingerLORA_midfingv1.safetensors\" \"/content/stable-diffusion-webui/extensions/sd-webui-additional-networks/models/LoRA\"\n",
        "\n",
        "# Gun2Head Pose\n",
        "!curl -Lo Gun2HeadV3.safetensors https://huggingface.co/nolanaatama/gn2hdpslora/resolve/main/gn2hdpslora.safetensors\n",
        "!mv \"/content/stable-diffusion-webui/Gun2HeadV3.safetensors\" \"/content/stable-diffusion-webui/extensions/sd-webui-additional-networks/models/LoRA\"\n",
        "\n",
        "!COMMANDLINE_ARGS=\"--share --gradio-debug --medvram --disable-safe-unpickle --xformers\" REQS_FILE=\"requirements.txt\" python launch.py"
      ],
      "metadata": {
        "id": "3EOPSiOgUs4z"
      },
      "execution_count": null,
      "outputs": []
    },
    {
      "cell_type": "markdown",
      "metadata": {
        "id": "fhwIXzcgfkoR"
      },
      "source": [
        "# 📚 GitHub for more: [_@nolanaatama_](https://github.com/nolanaatama)\n",
        "# 📦 Repo: [Github](https://github.com/nolanaatama/sd-1click-colab)"
      ]
    }
  ]
}